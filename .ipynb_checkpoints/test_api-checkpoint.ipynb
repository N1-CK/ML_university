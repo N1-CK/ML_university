{
 "cells": [
  {
   "cell_type": "code",
   "execution_count": 19,
   "id": "6b45b6a5",
   "metadata": {},
   "outputs": [],
   "source": [
    "import pandas as pd\n",
    "import numpy as np\n",
    "\n",
    "from datetime import timedelta\n",
    "from datetime import date\n",
    "from datetime import datetime\n",
    "import requests\n",
    "import json"
   ]
  },
  {
   "cell_type": "code",
   "execution_count": 21,
   "id": "fd7722e0",
   "metadata": {},
   "outputs": [],
   "source": [
    "data = {'key1': 'value1', 'key2': 'value2'}\n",
    "response = requests.post(\n",
    "    \"http://localhost:5001/api/predict\",\n",
    "    headers={\"Content-Type\": \"application/json\"},\n",
    "    data=json.dumps({'picture' : data.encode('base64')})\n",
    ")"
   ]
  },
  {
   "cell_type": "code",
   "execution_count": 27,
   "id": "fc196a4e",
   "metadata": {},
   "outputs": [
    {
     "name": "stdout",
     "output_type": "stream",
     "text": [
      "new: {'prediction': '2cegf'}\n"
     ]
    }
   ],
   "source": [
    "import requests\n",
    "import base64\n",
    "\n",
    "with open(\"D:\\\\Documents\\\\University\\\\ML\\\\my_application_2\\\\static\\\\2cegf.png\", \"rb\") as image_file:\n",
    "    encoded_image = base64.b64encode(image_file.read())\n",
    "\n",
    "files = {\"image\": encoded_image}\n",
    "response = requests.post(\n",
    "    \"http://localhost:5001/api/predict4\",\n",
    "    files=files\n",
    ")\n",
    "\n",
    "if response.status_code == 200:\n",
    "    print('new:', response.json())\n",
    "else:\n",
    "    print('Error:', response.status_code, response.text)\n"
   ]
  },
  {
   "cell_type": "code",
   "execution_count": 29,
   "id": "c822f8f7",
   "metadata": {},
   "outputs": [
    {
     "data": {
      "text/plain": [
       "'2cegf'"
      ]
     },
     "execution_count": 29,
     "metadata": {},
     "output_type": "execute_result"
    }
   ],
   "source": [
    "response.json()['prediction']"
   ]
  },
  {
   "cell_type": "code",
   "execution_count": null,
   "id": "161ef5e0",
   "metadata": {},
   "outputs": [],
   "source": []
  }
 ],
 "metadata": {
  "kernelspec": {
   "display_name": "Python 3 (ipykernel)",
   "language": "python",
   "name": "python3"
  },
  "language_info": {
   "codemirror_mode": {
    "name": "ipython",
    "version": 3
   },
   "file_extension": ".py",
   "mimetype": "text/x-python",
   "name": "python",
   "nbconvert_exporter": "python",
   "pygments_lexer": "ipython3",
   "version": "3.11.5"
  }
 },
 "nbformat": 4,
 "nbformat_minor": 5
}
